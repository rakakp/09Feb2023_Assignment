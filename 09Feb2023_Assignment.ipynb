{
 "cells": [
  {
   "cell_type": "code",
   "execution_count": 1,
   "id": "2e59f943-d871-4554-8133-e21e531d7812",
   "metadata": {},
   "outputs": [],
   "source": [
    "''' Q1 '''\n",
    "class vehicle:\n",
    "    def __init__(self,name_of_vehicle,max_speed,average_of_vehicle):\n",
    "        self.name_of_vehicle = name_of_vehicle\n",
    "        self.max_speed = max_speed\n",
    "        self.average_of_vehicle = average_of_vehicle\n",
    "    \n",
    "v1 = vehicle(\"inova\",340,20)"
   ]
  },
  {
   "cell_type": "code",
   "execution_count": 2,
   "id": "8cef3752-39ab-4163-a7da-09c84dc09ae1",
   "metadata": {},
   "outputs": [
    {
     "name": "stdout",
     "output_type": "stream",
     "text": [
      "('inova', 7)\n"
     ]
    }
   ],
   "source": [
    "''' Q2 '''\n",
    "class vehicle:\n",
    "    def __init__(self,name_of_vehicle,max_speed,average_of_vehicle):\n",
    "        self.name_of_vehicle = name_of_vehicle\n",
    "        self.max_speed = max_speed\n",
    "        self.average_of_vehicle = average_of_vehicle\n",
    "    \n",
    "class car(vehicle):\n",
    "    def seating_capacity(self,capacity):\n",
    "        self.capacity = capacity \n",
    "        return self.name_of_vehicle,self.capacity\n",
    "        \n",
    "#v1 = vehicle(\"inova\",340,20)\n",
    "c1 = car(\"inova\",340,20)\n",
    "print(c1.seating_capacity(7))"
   ]
  },
  {
   "cell_type": "code",
   "execution_count": 3,
   "id": "17354a53-e894-4715-b862-67f4343afadb",
   "metadata": {},
   "outputs": [
    {
     "name": "stdout",
     "output_type": "stream",
     "text": [
      "name of diesel vehicle is  inova\n",
      "average of diesel vehicle is  20 km/hr\n",
      "speed of diesel vehicle is  340 \n",
      "\n",
      "name of petrol vehicle is  duster\n",
      "average of petrol vehicle is  300 km/hr\n",
      "speed of petrol vehicle is  18\n"
     ]
    }
   ],
   "source": [
    "''' Q3 '''\n",
    "\n",
    "class diesel_vehicle:\n",
    "    def __init__(self,name,average,speed):\n",
    "        self.name = name\n",
    "        self.average = average\n",
    "        self.speed = speed\n",
    "        \n",
    "    def display_diesel_vehicle(self):\n",
    "        print(\"name of diesel vehicle is \", self.name)\n",
    "        print(\"average of diesel vehicle is \", self.average,  \"km/hr\")\n",
    "        print(\"speed of diesel vehicle is \", self.speed,\"\\n\")\n",
    "\n",
    "class petrol_vehicle:\n",
    "    def __init__(self,name,average,speed):\n",
    "        self.name = name\n",
    "        self.average = average\n",
    "        self.speed = speed\n",
    "        \n",
    "    def display_petrol_vehicle(self):\n",
    "        print(\"name of petrol vehicle is \", self.name)\n",
    "        print(\"average of petrol vehicle is \", self.average,  \"km/hr\")\n",
    "        print(\"speed of petrol vehicle is \", self.speed)\n",
    "    \n",
    "class car(diesel_vehicle,petrol_vehicle):\n",
    "    pass\n",
    "        \n",
    "c1 = car(\"inova\",20,340)\n",
    "c1.display_diesel_vehicle()\n",
    "\n",
    "c2 = car(\"duster\",300,18)\n",
    "c2.display_petrol_vehicle()  "
   ]
  },
  {
   "cell_type": "code",
   "execution_count": 4,
   "id": "a1599050-4639-4b29-b1e0-e8a29fcc9063",
   "metadata": {},
   "outputs": [
    {
     "name": "stdout",
     "output_type": "stream",
     "text": [
      "10\n",
      "20\n",
      "1\n",
      "1\n"
     ]
    }
   ],
   "source": [
    "''' Q4 '''\n",
    "class coordinates():\n",
    "    def __init__(self,x,y):\n",
    "        self.x = x\n",
    "        self.y = y\n",
    "    \n",
    "    def get_x_pos(self):\n",
    "        return self.x\n",
    "    def set_x_pos(self,x1):\n",
    "        self.x = x1\n",
    "    def get_y_pos(self):\n",
    "        return self.y\n",
    "    def set_y_pos(self,y1):\n",
    "        self.y = y1\n",
    "        \n",
    "p1 = coordinates(10,20)\n",
    "print(p1.get_x_pos())\n",
    "print(p1.get_y_pos())\n",
    "p1.set_x_pos(1)\n",
    "p1.set_y_pos(1)\n",
    "print(p1.get_x_pos())\n",
    "print(p1.get_y_pos())"
   ]
  },
  {
   "cell_type": "code",
   "execution_count": 5,
   "id": "633f0f7b-6e62-4698-8419-cde030f7c478",
   "metadata": {},
   "outputs": [
    {
     "name": "stdout",
     "output_type": "stream",
     "text": [
      "154.0\n"
     ]
    }
   ],
   "source": [
    "''' Q5 '''\n",
    "class shape():\n",
    "    def __init__(self,x,y):\n",
    "        self.x = x\n",
    "        self.y = y\n",
    "    \n",
    "    def area(self):\n",
    "        return self.x*self.y\n",
    "        \n",
    "class circle(shape):\n",
    "    def __init__(self,r):\n",
    "        self.r = r\n",
    "    \n",
    "    def area(self):\n",
    "        return (22*self.r*self.r)/7\n",
    "        \n",
    "circle1 = circle(7)\n",
    "print(circle1.area())  "
   ]
  },
  {
   "cell_type": "code",
   "execution_count": null,
   "id": "925b1b8d-0ddf-4746-95de-43bd8b827a61",
   "metadata": {},
   "outputs": [],
   "source": []
  }
 ],
 "metadata": {
  "kernelspec": {
   "display_name": "Python 3 (ipykernel)",
   "language": "python",
   "name": "python3"
  },
  "language_info": {
   "codemirror_mode": {
    "name": "ipython",
    "version": 3
   },
   "file_extension": ".py",
   "mimetype": "text/x-python",
   "name": "python",
   "nbconvert_exporter": "python",
   "pygments_lexer": "ipython3",
   "version": "3.10.8"
  }
 },
 "nbformat": 4,
 "nbformat_minor": 5
}
